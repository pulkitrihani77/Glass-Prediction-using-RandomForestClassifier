{
 "cells": [
  {
   "cell_type": "markdown",
   "id": "c68857f3-57b5-41d0-895d-96c03f5f13db",
   "metadata": {},
   "source": [
    "# Importing important libraries"
   ]
  },
  {
   "cell_type": "code",
   "execution_count": 1,
   "id": "a9997b9c-dbff-4195-81fa-37615d001e2a",
   "metadata": {},
   "outputs": [],
   "source": [
    "import tensorflow as tf\n",
    "import pandas as pd\n",
    "import matplotlib.pyplot as plt\n",
    "import seaborn as sns"
   ]
  },
  {
   "cell_type": "markdown",
   "id": "8dae2a35-e828-4f6c-ae34-d818d5176d40",
   "metadata": {},
   "source": [
    "# Data Preprocessing and Data Exploration"
   ]
  },
  {
   "cell_type": "code",
   "execution_count": 2,
   "id": "195b7fdc-2806-4ff3-8c23-09497772c6ec",
   "metadata": {},
   "outputs": [],
   "source": [
    "data = pd.read_csv('glass.csv')"
   ]
  },
  {
   "cell_type": "code",
   "execution_count": 3,
   "id": "db069c0f-a293-4bd9-9f8d-e80ea5c45323",
   "metadata": {},
   "outputs": [
    {
     "data": {
      "text/html": [
       "<div>\n",
       "<style scoped>\n",
       "    .dataframe tbody tr th:only-of-type {\n",
       "        vertical-align: middle;\n",
       "    }\n",
       "\n",
       "    .dataframe tbody tr th {\n",
       "        vertical-align: top;\n",
       "    }\n",
       "\n",
       "    .dataframe thead th {\n",
       "        text-align: right;\n",
       "    }\n",
       "</style>\n",
       "<table border=\"1\" class=\"dataframe\">\n",
       "  <thead>\n",
       "    <tr style=\"text-align: right;\">\n",
       "      <th></th>\n",
       "      <th>RI</th>\n",
       "      <th>Na</th>\n",
       "      <th>Mg</th>\n",
       "      <th>Al</th>\n",
       "      <th>Si</th>\n",
       "      <th>K</th>\n",
       "      <th>Ca</th>\n",
       "      <th>Ba</th>\n",
       "      <th>Fe</th>\n",
       "      <th>Type</th>\n",
       "    </tr>\n",
       "  </thead>\n",
       "  <tbody>\n",
       "    <tr>\n",
       "      <th>0</th>\n",
       "      <td>1.52101</td>\n",
       "      <td>13.64</td>\n",
       "      <td>4.49</td>\n",
       "      <td>1.10</td>\n",
       "      <td>71.78</td>\n",
       "      <td>0.06</td>\n",
       "      <td>8.75</td>\n",
       "      <td>0.0</td>\n",
       "      <td>0.0</td>\n",
       "      <td>1</td>\n",
       "    </tr>\n",
       "    <tr>\n",
       "      <th>1</th>\n",
       "      <td>1.51761</td>\n",
       "      <td>13.89</td>\n",
       "      <td>3.60</td>\n",
       "      <td>1.36</td>\n",
       "      <td>72.73</td>\n",
       "      <td>0.48</td>\n",
       "      <td>7.83</td>\n",
       "      <td>0.0</td>\n",
       "      <td>0.0</td>\n",
       "      <td>1</td>\n",
       "    </tr>\n",
       "    <tr>\n",
       "      <th>2</th>\n",
       "      <td>1.51618</td>\n",
       "      <td>13.53</td>\n",
       "      <td>3.55</td>\n",
       "      <td>1.54</td>\n",
       "      <td>72.99</td>\n",
       "      <td>0.39</td>\n",
       "      <td>7.78</td>\n",
       "      <td>0.0</td>\n",
       "      <td>0.0</td>\n",
       "      <td>1</td>\n",
       "    </tr>\n",
       "    <tr>\n",
       "      <th>3</th>\n",
       "      <td>1.51766</td>\n",
       "      <td>13.21</td>\n",
       "      <td>3.69</td>\n",
       "      <td>1.29</td>\n",
       "      <td>72.61</td>\n",
       "      <td>0.57</td>\n",
       "      <td>8.22</td>\n",
       "      <td>0.0</td>\n",
       "      <td>0.0</td>\n",
       "      <td>1</td>\n",
       "    </tr>\n",
       "    <tr>\n",
       "      <th>4</th>\n",
       "      <td>1.51742</td>\n",
       "      <td>13.27</td>\n",
       "      <td>3.62</td>\n",
       "      <td>1.24</td>\n",
       "      <td>73.08</td>\n",
       "      <td>0.55</td>\n",
       "      <td>8.07</td>\n",
       "      <td>0.0</td>\n",
       "      <td>0.0</td>\n",
       "      <td>1</td>\n",
       "    </tr>\n",
       "  </tbody>\n",
       "</table>\n",
       "</div>"
      ],
      "text/plain": [
       "        RI     Na    Mg    Al     Si     K    Ca   Ba   Fe  Type\n",
       "0  1.52101  13.64  4.49  1.10  71.78  0.06  8.75  0.0  0.0     1\n",
       "1  1.51761  13.89  3.60  1.36  72.73  0.48  7.83  0.0  0.0     1\n",
       "2  1.51618  13.53  3.55  1.54  72.99  0.39  7.78  0.0  0.0     1\n",
       "3  1.51766  13.21  3.69  1.29  72.61  0.57  8.22  0.0  0.0     1\n",
       "4  1.51742  13.27  3.62  1.24  73.08  0.55  8.07  0.0  0.0     1"
      ]
     },
     "execution_count": 3,
     "metadata": {},
     "output_type": "execute_result"
    }
   ],
   "source": [
    "data.head()"
   ]
  },
  {
   "cell_type": "code",
   "execution_count": 4,
   "id": "4c0a50fc-4eab-4b89-9ed6-07e587bdee2a",
   "metadata": {},
   "outputs": [
    {
     "data": {
      "text/plain": [
       "(214, 10)"
      ]
     },
     "execution_count": 4,
     "metadata": {},
     "output_type": "execute_result"
    }
   ],
   "source": [
    "data.shape"
   ]
  },
  {
   "cell_type": "code",
   "execution_count": 5,
   "id": "0b7ef829-b91d-419c-bc06-0627fa6ab677",
   "metadata": {},
   "outputs": [
    {
     "data": {
      "text/html": [
       "<div>\n",
       "<style scoped>\n",
       "    .dataframe tbody tr th:only-of-type {\n",
       "        vertical-align: middle;\n",
       "    }\n",
       "\n",
       "    .dataframe tbody tr th {\n",
       "        vertical-align: top;\n",
       "    }\n",
       "\n",
       "    .dataframe thead th {\n",
       "        text-align: right;\n",
       "    }\n",
       "</style>\n",
       "<table border=\"1\" class=\"dataframe\">\n",
       "  <thead>\n",
       "    <tr style=\"text-align: right;\">\n",
       "      <th></th>\n",
       "      <th>RI</th>\n",
       "      <th>Na</th>\n",
       "      <th>Mg</th>\n",
       "      <th>Al</th>\n",
       "      <th>Si</th>\n",
       "      <th>K</th>\n",
       "      <th>Ca</th>\n",
       "      <th>Ba</th>\n",
       "      <th>Fe</th>\n",
       "      <th>Type</th>\n",
       "    </tr>\n",
       "  </thead>\n",
       "  <tbody>\n",
       "    <tr>\n",
       "      <th>count</th>\n",
       "      <td>214.000000</td>\n",
       "      <td>214.000000</td>\n",
       "      <td>214.000000</td>\n",
       "      <td>214.000000</td>\n",
       "      <td>214.000000</td>\n",
       "      <td>214.000000</td>\n",
       "      <td>214.000000</td>\n",
       "      <td>214.000000</td>\n",
       "      <td>214.000000</td>\n",
       "      <td>214.000000</td>\n",
       "    </tr>\n",
       "    <tr>\n",
       "      <th>mean</th>\n",
       "      <td>1.518365</td>\n",
       "      <td>13.407850</td>\n",
       "      <td>2.684533</td>\n",
       "      <td>1.444907</td>\n",
       "      <td>72.650935</td>\n",
       "      <td>0.497056</td>\n",
       "      <td>8.956963</td>\n",
       "      <td>0.175047</td>\n",
       "      <td>0.057009</td>\n",
       "      <td>2.780374</td>\n",
       "    </tr>\n",
       "    <tr>\n",
       "      <th>std</th>\n",
       "      <td>0.003037</td>\n",
       "      <td>0.816604</td>\n",
       "      <td>1.442408</td>\n",
       "      <td>0.499270</td>\n",
       "      <td>0.774546</td>\n",
       "      <td>0.652192</td>\n",
       "      <td>1.423153</td>\n",
       "      <td>0.497219</td>\n",
       "      <td>0.097439</td>\n",
       "      <td>2.103739</td>\n",
       "    </tr>\n",
       "    <tr>\n",
       "      <th>min</th>\n",
       "      <td>1.511150</td>\n",
       "      <td>10.730000</td>\n",
       "      <td>0.000000</td>\n",
       "      <td>0.290000</td>\n",
       "      <td>69.810000</td>\n",
       "      <td>0.000000</td>\n",
       "      <td>5.430000</td>\n",
       "      <td>0.000000</td>\n",
       "      <td>0.000000</td>\n",
       "      <td>1.000000</td>\n",
       "    </tr>\n",
       "    <tr>\n",
       "      <th>25%</th>\n",
       "      <td>1.516522</td>\n",
       "      <td>12.907500</td>\n",
       "      <td>2.115000</td>\n",
       "      <td>1.190000</td>\n",
       "      <td>72.280000</td>\n",
       "      <td>0.122500</td>\n",
       "      <td>8.240000</td>\n",
       "      <td>0.000000</td>\n",
       "      <td>0.000000</td>\n",
       "      <td>1.000000</td>\n",
       "    </tr>\n",
       "    <tr>\n",
       "      <th>50%</th>\n",
       "      <td>1.517680</td>\n",
       "      <td>13.300000</td>\n",
       "      <td>3.480000</td>\n",
       "      <td>1.360000</td>\n",
       "      <td>72.790000</td>\n",
       "      <td>0.555000</td>\n",
       "      <td>8.600000</td>\n",
       "      <td>0.000000</td>\n",
       "      <td>0.000000</td>\n",
       "      <td>2.000000</td>\n",
       "    </tr>\n",
       "    <tr>\n",
       "      <th>75%</th>\n",
       "      <td>1.519157</td>\n",
       "      <td>13.825000</td>\n",
       "      <td>3.600000</td>\n",
       "      <td>1.630000</td>\n",
       "      <td>73.087500</td>\n",
       "      <td>0.610000</td>\n",
       "      <td>9.172500</td>\n",
       "      <td>0.000000</td>\n",
       "      <td>0.100000</td>\n",
       "      <td>3.000000</td>\n",
       "    </tr>\n",
       "    <tr>\n",
       "      <th>max</th>\n",
       "      <td>1.533930</td>\n",
       "      <td>17.380000</td>\n",
       "      <td>4.490000</td>\n",
       "      <td>3.500000</td>\n",
       "      <td>75.410000</td>\n",
       "      <td>6.210000</td>\n",
       "      <td>16.190000</td>\n",
       "      <td>3.150000</td>\n",
       "      <td>0.510000</td>\n",
       "      <td>7.000000</td>\n",
       "    </tr>\n",
       "  </tbody>\n",
       "</table>\n",
       "</div>"
      ],
      "text/plain": [
       "               RI          Na          Mg          Al          Si           K  \\\n",
       "count  214.000000  214.000000  214.000000  214.000000  214.000000  214.000000   \n",
       "mean     1.518365   13.407850    2.684533    1.444907   72.650935    0.497056   \n",
       "std      0.003037    0.816604    1.442408    0.499270    0.774546    0.652192   \n",
       "min      1.511150   10.730000    0.000000    0.290000   69.810000    0.000000   \n",
       "25%      1.516522   12.907500    2.115000    1.190000   72.280000    0.122500   \n",
       "50%      1.517680   13.300000    3.480000    1.360000   72.790000    0.555000   \n",
       "75%      1.519157   13.825000    3.600000    1.630000   73.087500    0.610000   \n",
       "max      1.533930   17.380000    4.490000    3.500000   75.410000    6.210000   \n",
       "\n",
       "               Ca          Ba          Fe        Type  \n",
       "count  214.000000  214.000000  214.000000  214.000000  \n",
       "mean     8.956963    0.175047    0.057009    2.780374  \n",
       "std      1.423153    0.497219    0.097439    2.103739  \n",
       "min      5.430000    0.000000    0.000000    1.000000  \n",
       "25%      8.240000    0.000000    0.000000    1.000000  \n",
       "50%      8.600000    0.000000    0.000000    2.000000  \n",
       "75%      9.172500    0.000000    0.100000    3.000000  \n",
       "max     16.190000    3.150000    0.510000    7.000000  "
      ]
     },
     "execution_count": 5,
     "metadata": {},
     "output_type": "execute_result"
    }
   ],
   "source": [
    "data.describe()"
   ]
  },
  {
   "cell_type": "markdown",
   "id": "d40af6c5-e912-471e-88b2-b5c6a8a08b45",
   "metadata": {},
   "source": [
    "### Checking if NULL values"
   ]
  },
  {
   "cell_type": "code",
   "execution_count": 6,
   "id": "f33caf5a-444c-4b43-a34b-d9fb36bf3ae9",
   "metadata": {},
   "outputs": [
    {
     "data": {
      "text/plain": [
       "False"
      ]
     },
     "execution_count": 6,
     "metadata": {},
     "output_type": "execute_result"
    }
   ],
   "source": [
    "data.isnull().values.any()"
   ]
  },
  {
   "cell_type": "markdown",
   "id": "80c464dd-367b-4a45-8ca2-de45e866b32e",
   "metadata": {},
   "source": [
    "### Checking if categorical data"
   ]
  },
  {
   "cell_type": "code",
   "execution_count": 7,
   "id": "10e49a5b-e660-4740-9754-b90047a50b74",
   "metadata": {},
   "outputs": [
    {
     "data": {
      "text/plain": [
       "Index([], dtype='object')"
      ]
     },
     "execution_count": 7,
     "metadata": {},
     "output_type": "execute_result"
    }
   ],
   "source": [
    "data.select_dtypes(include=\"object\").columns"
   ]
  },
  {
   "cell_type": "markdown",
   "id": "511cdb3d-7e7a-4a91-a33c-6797f3651e1f",
   "metadata": {},
   "source": [
    "### Get features and label"
   ]
  },
  {
   "cell_type": "code",
   "execution_count": 8,
   "id": "0d10ee22-678b-4db9-b272-1a0c56ab6152",
   "metadata": {},
   "outputs": [],
   "source": [
    "x = data.drop(columns=\"Type\")"
   ]
  },
  {
   "cell_type": "code",
   "execution_count": 9,
   "id": "beaef0e9-caf7-402f-acbe-032e1e508411",
   "metadata": {},
   "outputs": [],
   "source": [
    "y = data[\"Type\"]"
   ]
  },
  {
   "cell_type": "markdown",
   "id": "8f00157d-2c9d-4ce2-80b2-9c282b963997",
   "metadata": {},
   "source": [
    "### Get correlation and Heatmap"
   ]
  },
  {
   "cell_type": "code",
   "execution_count": 10,
   "id": "bbe313eb-4c8b-4dd6-b0bd-37e5bf9c9265",
   "metadata": {},
   "outputs": [
    {
     "data": {
      "text/plain": [
       "<Axes: title={'center': 'Correlation with Type of Glass'}>"
      ]
     },
     "execution_count": 10,
     "metadata": {},
     "output_type": "execute_result"
    },
    {
     "data": {
      "image/png": "[encoded data removed]",
      "text/plain": [
       "<Figure size 1600x900 with 1 Axes>"
      ]
     },
     "metadata": {},
     "output_type": "display_data"
    }
   ],
   "source": [
    "temp_data = data.drop(columns=\"Type\")\n",
    "temp_data.corrwith(data[\"Type\"]).plot.bar(\n",
    "    figsize = (16,9),\n",
    "    title = \"Correlation with Type of Glass\",\n",
    "    rot  = 45,\n",
    "    grid = True\n",
    ")"
   ]
  },
  {
   "cell_type": "code",
   "execution_count": 11,
   "id": "81363c95-f330-42aa-b0da-e020005923c1",
   "metadata": {},
   "outputs": [
    {
     "data": {
      "text/plain": [
       "<function matplotlib.pyplot.plot(*args: 'float | ArrayLike | str', scalex: 'bool' = True, scaley: 'bool' = True, data=None, **kwargs) -> 'list[Line2D]'>"
      ]
     },
     "execution_count": 11,
     "metadata": {},
     "output_type": "execute_result"
    },
    {
     "data": {
      "image/png": "[encoded data removed]",
      "text/plain": [
       "<Figure size 1600x900 with 2 Axes>"
      ]
     },
     "metadata": {},
     "output_type": "display_data"
    }
   ],
   "source": [
    "plt.figure(figsize=(16,9))\n",
    "corr = data.corr()\n",
    "sns.heatmap(corr,annot=True)\n",
    "plt.plot"
   ]
  },
  {
   "cell_type": "markdown",
   "id": "78b117be-4337-4d39-918f-c98a884513e8",
   "metadata": {},
   "source": [
    "# Train - Test Split"
   ]
  },
  {
   "cell_type": "code",
   "execution_count": 12,
   "id": "7b3f65d1-07b4-47d4-ba5d-c4037eb9f28c",
   "metadata": {},
   "outputs": [],
   "source": [
    "from sklearn.model_selection import train_test_split\n",
    "x_train,x_test,y_train,y_test = train_test_split(x,y,test_size=0.2,random_state=0)"
   ]
  },
  {
   "cell_type": "code",
   "execution_count": 13,
   "id": "effa2a6d-1166-44e3-9bf1-1034b07b9226",
   "metadata": {},
   "outputs": [
    {
     "data": {
      "text/plain": [
       "((171, 9), (171,))"
      ]
     },
     "execution_count": 13,
     "metadata": {},
     "output_type": "execute_result"
    }
   ],
   "source": [
    "x_train.shape,y_train.shape"
   ]
  },
  {
   "cell_type": "code",
   "execution_count": 14,
   "id": "61579389-ed88-4ada-ae67-01291d0283b3",
   "metadata": {},
   "outputs": [
    {
     "data": {
      "text/plain": [
       "((43, 9), (43,))"
      ]
     },
     "execution_count": 14,
     "metadata": {},
     "output_type": "execute_result"
    }
   ],
   "source": [
    "x_test.shape,y_test.shape"
   ]
  },
  {
   "cell_type": "markdown",
   "id": "eb26da79-1337-4c74-8b42-fd464ffcea85",
   "metadata": {},
   "source": [
    "# Feature Scaling"
   ]
  },
  {
   "cell_type": "code",
   "execution_count": 15,
   "id": "07fe67c7-b03d-4b97-a347-c4dd3a7fcd6e",
   "metadata": {},
   "outputs": [],
   "source": [
    "from sklearn.preprocessing import MinMaxScaler\n",
    "mm = MinMaxScaler()\n",
    "x_train = mm.fit_transform(x_train)\n",
    "x_test = mm.transform(x_test)"
   ]
  },
  {
   "cell_type": "markdown",
   "id": "cbd90e91-a522-4ba5-842f-a782c6bac7f1",
   "metadata": {},
   "source": [
    "### 1. Using LogisticRegression"
   ]
  },
  {
   "cell_type": "code",
   "execution_count": 16,
   "id": "29740971-b9a9-4599-8650-eb77272e490e",
   "metadata": {},
   "outputs": [],
   "source": [
    "from sklearn.linear_model import LogisticRegression\n",
    "classifier_lr = LogisticRegression()\n",
    "classifier_lr.fit(x_train,y_train)\n",
    "y_pred = classifier_lr.predict(x_test)"
   ]
  },
  {
   "cell_type": "code",
   "execution_count": 17,
   "id": "ae3f013c-c31a-4806-b99a-76412c912c9a",
   "metadata": {},
   "outputs": [
    {
     "name": "stderr",
     "output_type": "stream",
     "text": [
      "/Library/Frameworks/Python.framework/Versions/3.11/lib/python3.11/site-packages/sklearn/metrics/_classification.py:1523: UserWarning: Note that pos_label (set to 'positive') is ignored when average != 'binary' (got 'micro'). You may use labels=[pos_label] to specify a single positive class.\n",
      "  warnings.warn(\n",
      "/Library/Frameworks/Python.framework/Versions/3.11/lib/python3.11/site-packages/sklearn/metrics/_classification.py:1523: UserWarning: Note that pos_label (set to 'positive') is ignored when average != 'binary' (got 'micro'). You may use labels=[pos_label] to specify a single positive class.\n",
      "  warnings.warn(\n",
      "/Library/Frameworks/Python.framework/Versions/3.11/lib/python3.11/site-packages/sklearn/metrics/_classification.py:1523: UserWarning: Note that pos_label (set to 'positive') is ignored when average != 'binary' (got 'micro'). You may use labels=[pos_label] to specify a single positive class.\n",
      "  warnings.warn(\n",
      "/Library/Frameworks/Python.framework/Versions/3.11/lib/python3.11/site-packages/sklearn/model_selection/_split.py:737: UserWarning: The least populated class in y has only 7 members, which is less than n_splits=10.\n",
      "  warnings.warn(\n"
     ]
    }
   ],
   "source": [
    "from sklearn.metrics import accuracy_score,precision_score,recall_score,confusion_matrix,f1_score\n",
    "acc = accuracy_score(y_test,y_pred)\n",
    "prec = precision_score(y_test,y_pred,pos_label='positive',average='micro')\n",
    "rec = recall_score(y_test,y_pred,pos_label='positive',average='micro')\n",
    "f1 = f1_score(y_test,y_pred,pos_label='positive',average='micro')\n",
    "from sklearn.model_selection import cross_val_score\n",
    "score = cross_val_score(estimator=classifier_lr,X=x_train,y=y_train,cv=10)\n",
    "avg_acc = score.mean()*100\n",
    "avg_std = score.std()*100"
   ]
  },
  {
   "cell_type": "code",
   "execution_count": 18,
   "id": "c22e7101-53d3-40da-9565-e27c093266af",
   "metadata": {},
   "outputs": [],
   "source": [
    "result_1 = pd.DataFrame([[\"LogisticRegression\",acc,prec,rec,f1,avg_acc,avg_std]],columns=[\"Model\",\"Accuracy\",\"Precision\",\"Recall\",\"F1 Score\",\"Average Accuracy\",\"Average Standard Devaition\"])"
   ]
  },
  {
   "cell_type": "markdown",
   "id": "7f9baa17-a83a-4f44-812a-da51dc8a3ca5",
   "metadata": {},
   "source": [
    "### 2. Using RandomForestClassifier"
   ]
  },
  {
   "cell_type": "code",
   "execution_count": 19,
   "id": "6d34bd54-8763-494a-a599-3357aa322907",
   "metadata": {},
   "outputs": [],
   "source": [
    "from sklearn.ensemble import RandomForestClassifier\n",
    "classifier_rm = RandomForestClassifier()\n",
    "classifier_rm.fit(x_train,y_train)\n",
    "y_pred = classifier_rm.predict(x_test)"
   ]
  },
  {
   "cell_type": "code",
   "execution_count": 20,
   "id": "d4ba1776-e0ae-4bc0-bd3e-0d42101f7bee",
   "metadata": {},
   "outputs": [
    {
     "name": "stderr",
     "output_type": "stream",
     "text": [
      "/Library/Frameworks/Python.framework/Versions/3.11/lib/python3.11/site-packages/sklearn/metrics/_classification.py:1523: UserWarning: Note that pos_label (set to 'positive') is ignored when average != 'binary' (got 'micro'). You may use labels=[pos_label] to specify a single positive class.\n",
      "  warnings.warn(\n",
      "/Library/Frameworks/Python.framework/Versions/3.11/lib/python3.11/site-packages/sklearn/metrics/_classification.py:1523: UserWarning: Note that pos_label (set to 'positive') is ignored when average != 'binary' (got 'micro'). You may use labels=[pos_label] to specify a single positive class.\n",
      "  warnings.warn(\n",
      "/Library/Frameworks/Python.framework/Versions/3.11/lib/python3.11/site-packages/sklearn/metrics/_classification.py:1523: UserWarning: Note that pos_label (set to 'positive') is ignored when average != 'binary' (got 'micro'). You may use labels=[pos_label] to specify a single positive class.\n",
      "  warnings.warn(\n",
      "/Library/Frameworks/Python.framework/Versions/3.11/lib/python3.11/site-packages/sklearn/model_selection/_split.py:737: UserWarning: The least populated class in y has only 7 members, which is less than n_splits=10.\n",
      "  warnings.warn(\n"
     ]
    }
   ],
   "source": [
    "from sklearn.metrics import accuracy_score,precision_score,recall_score,confusion_matrix,f1_score\n",
    "acc = accuracy_score(y_test,y_pred)\n",
    "prec = precision_score(y_test,y_pred,pos_label='positive',average='micro')\n",
    "rec = recall_score(y_test,y_pred,pos_label='positive',average='micro')\n",
    "f1 = f1_score(y_test,y_pred,pos_label='positive',average='micro')\n",
    "from sklearn.model_selection import cross_val_score\n",
    "score = cross_val_score(estimator=classifier_rm,X=x_train,y=y_train,cv=10)\n",
    "avg_acc = score.mean()*100\n",
    "avg_std = score.std()*100"
   ]
  },
  {
   "cell_type": "code",
   "execution_count": 21,
   "id": "aa780e2f-c9d1-454b-b013-d5b71497abcf",
   "metadata": {},
   "outputs": [],
   "source": [
    "result_2 = pd.DataFrame([[\"RandomForestClassifier\",acc,prec,rec,f1,avg_acc,avg_std]],columns=[\"Model\",\"Accuracy\",\"Precision\",\"Recall\",\"F1 Score\",\"Average Accuracy\",\"Average Standard Devaition\"])"
   ]
  },
  {
   "cell_type": "markdown",
   "id": "1ff3534d-a6d0-4e74-8add-78ae0573accf",
   "metadata": {},
   "source": [
    "### 3. Using GaussianNB"
   ]
  },
  {
   "cell_type": "code",
   "execution_count": 22,
   "id": "7ed9ed66-4c0f-4d5c-baa0-04f054d38cc8",
   "metadata": {},
   "outputs": [],
   "source": [
    "from sklearn.naive_bayes import GaussianNB\n",
    "classifier_gaussian = GaussianNB()\n",
    "classifier_gaussian.fit(x_train,y_train)\n",
    "y_pred = classifier_gaussian.predict(x_test)"
   ]
  },
  {
   "cell_type": "code",
   "execution_count": 23,
   "id": "2dcafa49-b1e1-43aa-9d4b-cfe187282784",
   "metadata": {},
   "outputs": [
    {
     "name": "stderr",
     "output_type": "stream",
     "text": [
      "/Library/Frameworks/Python.framework/Versions/3.11/lib/python3.11/site-packages/sklearn/metrics/_classification.py:1523: UserWarning: Note that pos_label (set to 'positive') is ignored when average != 'binary' (got 'micro'). You may use labels=[pos_label] to specify a single positive class.\n",
      "  warnings.warn(\n",
      "/Library/Frameworks/Python.framework/Versions/3.11/lib/python3.11/site-packages/sklearn/metrics/_classification.py:1523: UserWarning: Note that pos_label (set to 'positive') is ignored when average != 'binary' (got 'micro'). You may use labels=[pos_label] to specify a single positive class.\n",
      "  warnings.warn(\n",
      "/Library/Frameworks/Python.framework/Versions/3.11/lib/python3.11/site-packages/sklearn/metrics/_classification.py:1523: UserWarning: Note that pos_label (set to 'positive') is ignored when average != 'binary' (got 'micro'). You may use labels=[pos_label] to specify a single positive class.\n",
      "  warnings.warn(\n",
      "/Library/Frameworks/Python.framework/Versions/3.11/lib/python3.11/site-packages/sklearn/model_selection/_split.py:737: UserWarning: The least populated class in y has only 7 members, which is less than n_splits=10.\n",
      "  warnings.warn(\n"
     ]
    }
   ],
   "source": [
    "from sklearn.metrics import accuracy_score,precision_score,recall_score,confusion_matrix,f1_score\n",
    "acc = accuracy_score(y_test,y_pred)\n",
    "prec = precision_score(y_test,y_pred,pos_label='positive',average='micro')\n",
    "rec = recall_score(y_test,y_pred,pos_label='positive',average='micro')\n",
    "f1 = f1_score(y_test,y_pred,pos_label='positive',average='micro')\n",
    "from sklearn.model_selection import cross_val_score\n",
    "score = cross_val_score(estimator=classifier_gaussian,X=x_train,y=y_train,cv=10)\n",
    "avg_acc = score.mean()*100\n",
    "avg_std = score.std()*100"
   ]
  },
  {
   "cell_type": "code",
   "execution_count": 24,
   "id": "1740f9e4-fd85-422a-aedc-3209d1d5bd52",
   "metadata": {},
   "outputs": [],
   "source": [
    "result_3 = pd.DataFrame([[\"GaussianNB\",acc,prec,rec,f1,avg_acc,avg_std]],columns=[\"Model\",\"Accuracy\",\"Precision\",\"Recall\",\"F1 Score\",\"Average Accuracy\",\"Average Standard Devaition\"])"
   ]
  },
  {
   "cell_type": "markdown",
   "id": "b2e1510d-99fc-40f5-bbc4-5a0d5948156f",
   "metadata": {},
   "source": [
    "### 4. SVC"
   ]
  },
  {
   "cell_type": "code",
   "execution_count": 25,
   "id": "ad37d6e8-16fe-4f8f-be4e-d8f6b262b898",
   "metadata": {},
   "outputs": [],
   "source": [
    "from sklearn.svm import SVC\n",
    "classifier_svc = SVC()\n",
    "classifier_svc.fit(x_train,y_train)\n",
    "y_pred = classifier_svc.predict(x_test)"
   ]
  },
  {
   "cell_type": "code",
   "execution_count": 26,
   "id": "5ebb6565-52f4-4de4-a055-cfbdecabb2df",
   "metadata": {},
   "outputs": [
    {
     "name": "stderr",
     "output_type": "stream",
     "text": [
      "/Library/Frameworks/Python.framework/Versions/3.11/lib/python3.11/site-packages/sklearn/metrics/_classification.py:1523: UserWarning: Note that pos_label (set to 'positive') is ignored when average != 'binary' (got 'micro'). You may use labels=[pos_label] to specify a single positive class.\n",
      "  warnings.warn(\n",
      "/Library/Frameworks/Python.framework/Versions/3.11/lib/python3.11/site-packages/sklearn/metrics/_classification.py:1523: UserWarning: Note that pos_label (set to 'positive') is ignored when average != 'binary' (got 'micro'). You may use labels=[pos_label] to specify a single positive class.\n",
      "  warnings.warn(\n",
      "/Library/Frameworks/Python.framework/Versions/3.11/lib/python3.11/site-packages/sklearn/metrics/_classification.py:1523: UserWarning: Note that pos_label (set to 'positive') is ignored when average != 'binary' (got 'micro'). You may use labels=[pos_label] to specify a single positive class.\n",
      "  warnings.warn(\n",
      "/Library/Frameworks/Python.framework/Versions/3.11/lib/python3.11/site-packages/sklearn/model_selection/_split.py:737: UserWarning: The least populated class in y has only 7 members, which is less than n_splits=10.\n",
      "  warnings.warn(\n"
     ]
    }
   ],
   "source": [
    "from sklearn.metrics import accuracy_score,precision_score,recall_score,confusion_matrix,f1_score\n",
    "acc = accuracy_score(y_test,y_pred)\n",
    "prec = precision_score(y_test,y_pred,pos_label='positive',average='micro')\n",
    "rec = recall_score(y_test,y_pred,pos_label='positive',average='micro')\n",
    "f1 = f1_score(y_test,y_pred,pos_label='positive',average='micro')\n",
    "from sklearn.model_selection import cross_val_score\n",
    "score = cross_val_score(estimator=classifier_svc,X=x_train,y=y_train,cv=10)\n",
    "avg_acc = score.mean()*100\n",
    "avg_std = score.std()*100"
   ]
  },
  {
   "cell_type": "code",
   "execution_count": 27,
   "id": "56b45a8a-0907-450b-963e-32fc5919f1c4",
   "metadata": {},
   "outputs": [],
   "source": [
    "result_4 = pd.DataFrame([[\"SVC\",acc,prec,rec,f1,avg_acc,avg_std]],columns=[\"Model\",\"Accuracy\",\"Precision\",\"Recall\",\"F1 Score\",\"Average Accuracy\",\"Average Standard Devaition\"])"
   ]
  },
  {
   "cell_type": "markdown",
   "id": "28a3765b-f457-494a-9e1e-35e4c1e550a6",
   "metadata": {},
   "source": [
    "### 5. KNeighborsClassifier"
   ]
  },
  {
   "cell_type": "code",
   "execution_count": 28,
   "id": "7d6130d7-e1b0-4526-8223-7f206bd9761a",
   "metadata": {},
   "outputs": [],
   "source": [
    "from sklearn.neighbors import KNeighborsClassifier\n",
    "classifier_knn = KNeighborsClassifier()\n",
    "classifier_knn.fit(x_train,y_train)\n",
    "y_pred = classifier_knn.predict(x_test)"
   ]
  },
  {
   "cell_type": "code",
   "execution_count": 29,
   "id": "33fdac85-f5a6-41e4-a318-6a70ef5b7087",
   "metadata": {},
   "outputs": [
    {
     "name": "stderr",
     "output_type": "stream",
     "text": [
      "/Library/Frameworks/Python.framework/Versions/3.11/lib/python3.11/site-packages/sklearn/metrics/_classification.py:1523: UserWarning: Note that pos_label (set to 'positive') is ignored when average != 'binary' (got 'micro'). You may use labels=[pos_label] to specify a single positive class.\n",
      "  warnings.warn(\n",
      "/Library/Frameworks/Python.framework/Versions/3.11/lib/python3.11/site-packages/sklearn/metrics/_classification.py:1523: UserWarning: Note that pos_label (set to 'positive') is ignored when average != 'binary' (got 'micro'). You may use labels=[pos_label] to specify a single positive class.\n",
      "  warnings.warn(\n",
      "/Library/Frameworks/Python.framework/Versions/3.11/lib/python3.11/site-packages/sklearn/metrics/_classification.py:1523: UserWarning: Note that pos_label (set to 'positive') is ignored when average != 'binary' (got 'micro'). You may use labels=[pos_label] to specify a single positive class.\n",
      "  warnings.warn(\n",
      "/Library/Frameworks/Python.framework/Versions/3.11/lib/python3.11/site-packages/sklearn/model_selection/_split.py:737: UserWarning: The least populated class in y has only 7 members, which is less than n_splits=10.\n",
      "  warnings.warn(\n"
     ]
    }
   ],
   "source": [
    "from sklearn.metrics import accuracy_score,precision_score,recall_score,confusion_matrix,f1_score\n",
    "acc = accuracy_score(y_test,y_pred)\n",
    "prec = precision_score(y_test,y_pred,pos_label='positive',average='micro')\n",
    "rec = recall_score(y_test,y_pred,pos_label='positive',average='micro')\n",
    "f1 = f1_score(y_test,y_pred,pos_label='positive',average='micro')\n",
    "from sklearn.model_selection import cross_val_score\n",
    "score = cross_val_score(estimator=classifier_knn,X=x_train,y=y_train,cv=10)\n",
    "avg_acc = score.mean()*100\n",
    "avg_std = score.std()*100"
   ]
  },
  {
   "cell_type": "code",
   "execution_count": 30,
   "id": "984eaa6b-395e-4ccf-a03e-6a4cc800e6df",
   "metadata": {},
   "outputs": [],
   "source": [
    "result_5 = pd.DataFrame([[\"KNeighborsClassifier\",acc,prec,rec,f1,avg_acc,avg_std]],columns=[\"Model\",\"Accuracy\",\"Precision\",\"Recall\",\"F1 Score\",\"Average Accuracy\",\"Average Standard Devaition\"])"
   ]
  },
  {
   "cell_type": "markdown",
   "id": "8fb5a7a9-3063-4414-8d99-241598c2f3d5",
   "metadata": {},
   "source": [
    "### 6. Using DecisionTreeClassifier"
   ]
  },
  {
   "cell_type": "code",
   "execution_count": 31,
   "id": "774bf242-36b3-4caf-ac1a-811676e4aef1",
   "metadata": {},
   "outputs": [],
   "source": [
    "from sklearn.tree import DecisionTreeClassifier\n",
    "classifier_tree = DecisionTreeClassifier()\n",
    "classifier_tree.fit(x_train,y_train)\n",
    "y_pred = classifier_tree.predict(x_test)"
   ]
  },
  {
   "cell_type": "code",
   "execution_count": 32,
   "id": "a290c0bd-ca27-4072-ac1c-228048a52d4e",
   "metadata": {},
   "outputs": [
    {
     "name": "stderr",
     "output_type": "stream",
     "text": [
      "/Library/Frameworks/Python.framework/Versions/3.11/lib/python3.11/site-packages/sklearn/metrics/_classification.py:1523: UserWarning: Note that pos_label (set to 'positive') is ignored when average != 'binary' (got 'micro'). You may use labels=[pos_label] to specify a single positive class.\n",
      "  warnings.warn(\n",
      "/Library/Frameworks/Python.framework/Versions/3.11/lib/python3.11/site-packages/sklearn/metrics/_classification.py:1523: UserWarning: Note that pos_label (set to 'positive') is ignored when average != 'binary' (got 'micro'). You may use labels=[pos_label] to specify a single positive class.\n",
      "  warnings.warn(\n",
      "/Library/Frameworks/Python.framework/Versions/3.11/lib/python3.11/site-packages/sklearn/metrics/_classification.py:1523: UserWarning: Note that pos_label (set to 'positive') is ignored when average != 'binary' (got 'micro'). You may use labels=[pos_label] to specify a single positive class.\n",
      "  warnings.warn(\n",
      "/Library/Frameworks/Python.framework/Versions/3.11/lib/python3.11/site-packages/sklearn/model_selection/_split.py:737: UserWarning: The least populated class in y has only 7 members, which is less than n_splits=10.\n",
      "  warnings.warn(\n"
     ]
    }
   ],
   "source": [
    "from sklearn.metrics import accuracy_score,precision_score,recall_score,confusion_matrix,f1_score\n",
    "acc = accuracy_score(y_test,y_pred)\n",
    "prec = precision_score(y_test,y_pred,pos_label='positive',average='micro')\n",
    "rec = recall_score(y_test,y_pred,pos_label='positive',average='micro')\n",
    "f1 = f1_score(y_test,y_pred,pos_label='positive',average='micro')\n",
    "from sklearn.model_selection import cross_val_score\n",
    "score = cross_val_score(estimator=classifier_tree,X=x_train,y=y_train,cv=10)\n",
    "avg_acc = score.mean()*100\n",
    "avg_std = score.std()*100"
   ]
  },
  {
   "cell_type": "code",
   "execution_count": 33,
   "id": "a8241aee-2a6c-4216-b043-62ed890de987",
   "metadata": {},
   "outputs": [],
   "source": [
    "result_6 = pd.DataFrame([[\"DecisionTreeClassifier\",acc,prec,rec,f1,avg_acc,avg_std]],columns=[\"Model\",\"Accuracy\",\"Precision\",\"Recall\",\"F1 Score\",\"Average Accuracy\",\"Average Standard Devaition\"])"
   ]
  },
  {
   "cell_type": "markdown",
   "id": "89965243-0368-4ff2-a4ac-6a67f84b4e45",
   "metadata": {},
   "source": [
    "# Model Evaluations"
   ]
  },
  {
   "cell_type": "code",
   "execution_count": 34,
   "id": "464e7170-aa5a-4656-9389-ffe05341bb6c",
   "metadata": {},
   "outputs": [
    {
     "data": {
      "text/html": [
       "<div>\n",
       "<style scoped>\n",
       "    .dataframe tbody tr th:only-of-type {\n",
       "        vertical-align: middle;\n",
       "    }\n",
       "\n",
       "    .dataframe tbody tr th {\n",
       "        vertical-align: top;\n",
       "    }\n",
       "\n",
       "    .dataframe thead th {\n",
       "        text-align: right;\n",
       "    }\n",
       "</style>\n",
       "<table border=\"1\" class=\"dataframe\">\n",
       "  <thead>\n",
       "    <tr style=\"text-align: right;\">\n",
       "      <th></th>\n",
       "      <th>Model</th>\n",
       "      <th>Accuracy</th>\n",
       "      <th>Precision</th>\n",
       "      <th>Recall</th>\n",
       "      <th>F1 Score</th>\n",
       "      <th>Average Accuracy</th>\n",
       "      <th>Average Standard Devaition</th>\n",
       "    </tr>\n",
       "  </thead>\n",
       "  <tbody>\n",
       "    <tr>\n",
       "      <th>0</th>\n",
       "      <td>LogisticRegression</td>\n",
       "      <td>0.372093</td>\n",
       "      <td>0.372093</td>\n",
       "      <td>0.372093</td>\n",
       "      <td>0.372093</td>\n",
       "      <td>56.666667</td>\n",
       "      <td>9.004676</td>\n",
       "    </tr>\n",
       "    <tr>\n",
       "      <th>1</th>\n",
       "      <td>RandomForestClassifier</td>\n",
       "      <td>0.651163</td>\n",
       "      <td>0.651163</td>\n",
       "      <td>0.651163</td>\n",
       "      <td>0.651163</td>\n",
       "      <td>80.065359</td>\n",
       "      <td>12.158444</td>\n",
       "    </tr>\n",
       "    <tr>\n",
       "      <th>2</th>\n",
       "      <td>GaussianNB</td>\n",
       "      <td>0.372093</td>\n",
       "      <td>0.372093</td>\n",
       "      <td>0.372093</td>\n",
       "      <td>0.372093</td>\n",
       "      <td>50.228758</td>\n",
       "      <td>15.541303</td>\n",
       "    </tr>\n",
       "    <tr>\n",
       "      <th>3</th>\n",
       "      <td>SVC</td>\n",
       "      <td>0.604651</td>\n",
       "      <td>0.604651</td>\n",
       "      <td>0.604651</td>\n",
       "      <td>0.604651</td>\n",
       "      <td>64.836601</td>\n",
       "      <td>10.675026</td>\n",
       "    </tr>\n",
       "    <tr>\n",
       "      <th>4</th>\n",
       "      <td>KNeighborsClassifier</td>\n",
       "      <td>0.604651</td>\n",
       "      <td>0.604651</td>\n",
       "      <td>0.604651</td>\n",
       "      <td>0.604651</td>\n",
       "      <td>64.248366</td>\n",
       "      <td>12.037683</td>\n",
       "    </tr>\n",
       "    <tr>\n",
       "      <th>5</th>\n",
       "      <td>DecisionTreeClassifier</td>\n",
       "      <td>0.558140</td>\n",
       "      <td>0.558140</td>\n",
       "      <td>0.558140</td>\n",
       "      <td>0.558140</td>\n",
       "      <td>71.928105</td>\n",
       "      <td>13.613337</td>\n",
       "    </tr>\n",
       "  </tbody>\n",
       "</table>\n",
       "</div>"
      ],
      "text/plain": [
       "                    Model  Accuracy  Precision    Recall  F1 Score  \\\n",
       "0      LogisticRegression  0.372093   0.372093  0.372093  0.372093   \n",
       "1  RandomForestClassifier  0.651163   0.651163  0.651163  0.651163   \n",
       "2              GaussianNB  0.372093   0.372093  0.372093  0.372093   \n",
       "3                     SVC  0.604651   0.604651  0.604651  0.604651   \n",
       "4    KNeighborsClassifier  0.604651   0.604651  0.604651  0.604651   \n",
       "5  DecisionTreeClassifier  0.558140   0.558140  0.558140  0.558140   \n",
       "\n",
       "   Average Accuracy  Average Standard Devaition  \n",
       "0         56.666667                    9.004676  \n",
       "1         80.065359                   12.158444  \n",
       "2         50.228758                   15.541303  \n",
       "3         64.836601                   10.675026  \n",
       "4         64.248366                   12.037683  \n",
       "5         71.928105                   13.613337  "
      ]
     },
     "execution_count": 34,
     "metadata": {},
     "output_type": "execute_result"
    }
   ],
   "source": [
    "all_results = [result_1,result_2,result_3,result_4,result_5,result_6]\n",
    "final_results = pd.concat(all_results).reset_index(drop=True)\n",
    "final_results"
   ]
  },
  {
   "cell_type": "markdown",
   "id": "ea05c534-db4c-4027-9bae-df542bee5994",
   "metadata": {},
   "source": [
    "# Final Model : RandomForestClassifier"
   ]
  },
  {
   "cell_type": "code",
   "execution_count": 35,
   "id": "a73daeb6-6337-41d9-be80-6c4c4f765c34",
   "metadata": {},
   "outputs": [],
   "source": [
    "from sklearn.ensemble import RandomForestClassifier\n",
    "classifier = RandomForestClassifier()\n",
    "classifier.fit(x_train,y_train)\n",
    "y_pred = classifier.predict(x_test)"
   ]
  },
  {
   "cell_type": "markdown",
   "id": "cdffb941-8374-47a7-9cfa-174cdc83e817",
   "metadata": {},
   "source": [
    "# Checking on some values"
   ]
  },
  {
   "cell_type": "code",
   "execution_count": 36,
   "id": "62ddbd06-1ad0-486a-8d80-316f43382ff8",
   "metadata": {},
   "outputs": [],
   "source": [
    "y_test = y_test.to_numpy()"
   ]
  },
  {
   "cell_type": "code",
   "execution_count": 37,
   "id": "88e843e9-c2f9-429c-acc2-581ba005a533",
   "metadata": {},
   "outputs": [
    {
     "data": {
      "text/plain": [
       "(7, 7)"
      ]
     },
     "execution_count": 37,
     "metadata": {},
     "output_type": "execute_result"
    }
   ],
   "source": [
    "y_test[0],y_pred[0]"
   ]
  },
  {
   "cell_type": "code",
   "execution_count": 38,
   "id": "333e29af-b000-42d1-858d-b2f3a6c0ee7c",
   "metadata": {},
   "outputs": [
    {
     "data": {
      "text/plain": [
       "(2, 2)"
      ]
     },
     "execution_count": 38,
     "metadata": {},
     "output_type": "execute_result"
    }
   ],
   "source": [
    "y_test[5],y_pred[5]"
   ]
  },
  {
   "cell_type": "code",
   "execution_count": 39,
   "id": "f5edcf07-2502-4bdf-8706-d57e4c36e797",
   "metadata": {},
   "outputs": [
    {
     "data": {
      "text/plain": [
       "array([7, 1, 2, 6, 5, 2, 2, 2, 1, 2, 1, 2, 3, 2, 2, 7, 2, 1, 3, 3, 5, 2,\n",
       "       7, 7, 2, 1, 7, 1, 2, 2, 1, 1, 2, 2, 2, 3, 1, 3, 2, 7, 2, 6, 2])"
      ]
     },
     "execution_count": 39,
     "metadata": {},
     "output_type": "execute_result"
    }
   ],
   "source": [
    "y_test"
   ]
  },
  {
   "cell_type": "code",
   "execution_count": 40,
   "id": "abffe881-7c38-476e-a3c5-43ed966a482a",
   "metadata": {},
   "outputs": [
    {
     "data": {
      "text/plain": [
       "array([7, 1, 2, 6, 5, 2, 1, 2, 2, 2, 2, 1, 2, 2, 2, 7, 3, 2, 3, 2, 5, 1,\n",
       "       7, 7, 1, 1, 7, 1, 2, 2, 1, 1, 2, 1, 1, 1, 1, 1, 1, 7, 7, 6, 2])"
      ]
     },
     "execution_count": 40,
     "metadata": {},
     "output_type": "execute_result"
    }
   ],
   "source": [
    "y_pred"
   ]
  }
 ],
 "metadata": {
  "kernelspec": {
   "display_name": "Python 3 (ipykernel)",
   "language": "python",
   "name": "python3"
  },
  "language_info": {
   "codemirror_mode": {
    "name": "ipython",
    "version": 3
   },
   "file_extension": ".py",
   "mimetype": "text/x-python",
   "name": "python",
   "nbconvert_exporter": "python",
   "pygments_lexer": "ipython3",
   "version": "3.11.5"
  }
 },
 "nbformat": 4,
 "nbformat_minor": 5
}
